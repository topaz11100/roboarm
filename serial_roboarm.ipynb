{
 "cells": [
  {
   "cell_type": "code",
   "execution_count": 5,
   "id": "2456e460-a4b4-40b9-9475-10e14d6b1305",
   "metadata": {},
   "outputs": [],
   "source": [
    "import serial\n",
    "import keyboard\n",
    "import threading\n",
    "import time"
   ]
  },
  {
   "cell_type": "code",
   "execution_count": 6,
   "id": "bf7bd7b5-6d9a-4ff8-9a2f-4861c4226b35",
   "metadata": {},
   "outputs": [],
   "source": [
    "KEY_MAP = {'q' : (0, 1), 'a' : (0, -1),\n",
    "           'w' : (1, 1), 's' : (1, -1),\n",
    "           'e' : (2, 1), 'd' : (2, -1),\n",
    "           'r' : (3, 1), 'f' : (3, -1),\n",
    "           't' : (4, 1), 'g' : (4, -1)}\n",
    "angle = [90, 90, 90, 90, 90]\n",
    "port, rate = 'COM11', 9600"
   ]
  },
  {
   "cell_type": "code",
   "execution_count": 8,
   "id": "11995669-fc67-459d-8d84-6d53191110c9",
   "metadata": {},
   "outputs": [],
   "source": [
    "def send_angle(ser, angle):\n",
    "    result = ','.join( map(str, angle) )\n",
    "    result += 'a'\n",
    "    print(result)\n",
    "    ser.write(result.encode())\n",
    "\n",
    "def change_angle_by_key(angle, k):\n",
    "    idx, value = KEY_MAP[k][0], KEY_MAP[k][1]\n",
    "    angle[idx] += value\n",
    "    if angle[idx] < 0:\n",
    "        angle[idx] = 0\n",
    "    elif angle[idx] > 180:\n",
    "        angle[idx] = 180\n",
    "\n",
    "def do_pressed_key(k, ser):\n",
    "    while keyboard.is_pressed(k):\n",
    "        change_angle_by_key(angle, k)\n",
    "        time.sleep(0.1)\n",
    "    send_angle(ser, angle)\n",
    "\n",
    "def key_thread(k, ser):\n",
    "    thread = threading.Thread(target = do_pressed_key, args = (k, ser))\n",
    "    thread.start()"
   ]
  },
  {
   "cell_type": "code",
   "execution_count": null,
   "id": "c27a4f09-17e6-4d3d-abe7-fe40d95f901f",
   "metadata": {},
   "outputs": [],
   "source": [
    "with serial.Serial(port, rate) as ser:\n",
    "    for k in KEY_MAP:\n",
    "        keyboard.add_hotkey(k, lambda x = k : key_thread(x, ser))\n",
    "    keyboard.wait('esc')"
   ]
  },
  {
   "cell_type": "code",
   "execution_count": null,
   "id": "d6fa6fcd",
   "metadata": {},
   "outputs": [],
   "source": []
  }
 ],
 "metadata": {
  "kernelspec": {
   "display_name": "ai",
   "language": "python",
   "name": "python3"
  },
  "language_info": {
   "codemirror_mode": {
    "name": "ipython",
    "version": 3
   },
   "file_extension": ".py",
   "mimetype": "text/x-python",
   "name": "python",
   "nbconvert_exporter": "python",
   "pygments_lexer": "ipython3",
   "version": "3.10.8"
  }
 },
 "nbformat": 4,
 "nbformat_minor": 5
}
